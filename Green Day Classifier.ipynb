{
 "cells": [
  {
   "cell_type": "code",
   "execution_count": 1,
   "id": "92f6e076-4af7-4c66-b63e-840a63b6d161",
   "metadata": {
    "tags": []
   },
   "outputs": [
    {
     "name": "stdout",
     "output_type": "stream",
     "text": [
      "pydub is installed\n"
     ]
    }
   ],
   "source": [
    "try:\n",
    "    import keras \n",
    "    print(\"pydub is installed\")\n",
    "except ImportError:\n",
    "    print(\"pydub is not installed\")"
   ]
  },
  {
   "cell_type": "code",
   "execution_count": 2,
   "id": "48448b04-f766-42cc-a790-ae0c33ba30e0",
   "metadata": {
    "tags": []
   },
   "outputs": [],
   "source": [
    "import os\n",
    "import librosa\n",
    "import librosa.display\n",
    "import IPython.display as ipd\n",
    "import numpy as np\n",
    "import wave\n",
    "import seaborn\n",
    "import matplotlib.pyplot as plt"
   ]
  },
  {
   "cell_type": "code",
   "execution_count": 3,
   "id": "95c7907b-408b-446a-8d62-a7fe649276e3",
   "metadata": {
    "tags": []
   },
   "outputs": [],
   "source": [
    "os.chdir('C://Users/morni/Side Projects/wav_files')"
   ]
  },
  {
   "cell_type": "code",
   "execution_count": 7,
   "id": "ba75db81-ef56-45bf-8170-9e1f3963c14e",
   "metadata": {
    "tags": []
   },
   "outputs": [
    {
     "name": "stdout",
     "output_type": "stream",
     "text": [
      "Epoch 1/30\n"
     ]
    },
    {
     "name": "stderr",
     "output_type": "stream",
     "text": [
      "C:\\anacondafolder\\Lib\\site-packages\\keras\\src\\layers\\convolutional\\base_conv.py:107: UserWarning: Do not pass an `input_shape`/`input_dim` argument to a layer. When using Sequential models, prefer using an `Input(shape)` object as the first layer in the model instead.\n",
      "  super().__init__(activity_regularizer=activity_regularizer, **kwargs)\n"
     ]
    },
    {
     "name": "stdout",
     "output_type": "stream",
     "text": [
      "\u001b[1m2/2\u001b[0m \u001b[32m━━━━━━━━━━━━━━━━━━━━\u001b[0m\u001b[37m\u001b[0m \u001b[1m2s\u001b[0m 286ms/step - accuracy: 0.3220 - loss: 15.5628 - val_accuracy: 0.2500 - val_loss: 21.3004\n",
      "Epoch 2/30\n",
      "\u001b[1m2/2\u001b[0m \u001b[32m━━━━━━━━━━━━━━━━━━━━\u001b[0m\u001b[37m\u001b[0m \u001b[1m0s\u001b[0m 109ms/step - accuracy: 0.1914 - loss: 23.9295 - val_accuracy: 0.0833 - val_loss: 5.3830\n",
      "Epoch 3/30\n",
      "\u001b[1m2/2\u001b[0m \u001b[32m━━━━━━━━━━━━━━━━━━━━\u001b[0m\u001b[37m\u001b[0m \u001b[1m0s\u001b[0m 108ms/step - accuracy: 0.3116 - loss: 4.7795 - val_accuracy: 0.3333 - val_loss: 2.9327\n",
      "Epoch 4/30\n",
      "\u001b[1m2/2\u001b[0m \u001b[32m━━━━━━━━━━━━━━━━━━━━\u001b[0m\u001b[37m\u001b[0m \u001b[1m0s\u001b[0m 102ms/step - accuracy: 0.1706 - loss: 3.6297 - val_accuracy: 0.0833 - val_loss: 2.0013\n",
      "Epoch 5/30\n",
      "\u001b[1m2/2\u001b[0m \u001b[32m━━━━━━━━━━━━━━━━━━━━\u001b[0m\u001b[37m\u001b[0m \u001b[1m0s\u001b[0m 107ms/step - accuracy: 0.2299 - loss: 1.9903 - val_accuracy: 0.3333 - val_loss: 1.4554\n",
      "Epoch 6/30\n",
      "\u001b[1m2/2\u001b[0m \u001b[32m━━━━━━━━━━━━━━━━━━━━\u001b[0m\u001b[37m\u001b[0m \u001b[1m0s\u001b[0m 108ms/step - accuracy: 0.2611 - loss: 1.5259 - val_accuracy: 0.3333 - val_loss: 1.4102\n",
      "Epoch 7/30\n",
      "\u001b[1m2/2\u001b[0m \u001b[32m━━━━━━━━━━━━━━━━━━━━\u001b[0m\u001b[37m\u001b[0m \u001b[1m0s\u001b[0m 104ms/step - accuracy: 0.3280 - loss: 1.7773 - val_accuracy: 0.3333 - val_loss: 1.3573\n",
      "Epoch 8/30\n",
      "\u001b[1m2/2\u001b[0m \u001b[32m━━━━━━━━━━━━━━━━━━━━\u001b[0m\u001b[37m\u001b[0m \u001b[1m0s\u001b[0m 108ms/step - accuracy: 0.2106 - loss: 1.5931 - val_accuracy: 0.1667 - val_loss: 1.3995\n",
      "Epoch 9/30\n",
      "\u001b[1m2/2\u001b[0m \u001b[32m━━━━━━━━━━━━━━━━━━━━\u001b[0m\u001b[37m\u001b[0m \u001b[1m0s\u001b[0m 105ms/step - accuracy: 0.2671 - loss: 1.3679 - val_accuracy: 0.1667 - val_loss: 1.3940\n",
      "Epoch 10/30\n",
      "\u001b[1m2/2\u001b[0m \u001b[32m━━━━━━━━━━━━━━━━━━━━\u001b[0m\u001b[37m\u001b[0m \u001b[1m0s\u001b[0m 106ms/step - accuracy: 0.4065 - loss: 1.3519 - val_accuracy: 0.1667 - val_loss: 1.3893\n",
      "Epoch 11/30\n",
      "\u001b[1m2/2\u001b[0m \u001b[32m━━━━━━━━━━━━━━━━━━━━\u001b[0m\u001b[37m\u001b[0m \u001b[1m0s\u001b[0m 117ms/step - accuracy: 0.4021 - loss: 1.3187 - val_accuracy: 0.1667 - val_loss: 1.3534\n",
      "Epoch 12/30\n",
      "\u001b[1m2/2\u001b[0m \u001b[32m━━━━━━━━━━━━━━━━━━━━\u001b[0m\u001b[37m\u001b[0m \u001b[1m0s\u001b[0m 134ms/step - accuracy: 0.5326 - loss: 1.2538 - val_accuracy: 0.4167 - val_loss: 1.3403\n",
      "Epoch 13/30\n",
      "\u001b[1m2/2\u001b[0m \u001b[32m━━━━━━━━━━━━━━━━━━━━\u001b[0m\u001b[37m\u001b[0m \u001b[1m0s\u001b[0m 111ms/step - accuracy: 0.5535 - loss: 1.1736 - val_accuracy: 0.3333 - val_loss: 1.3996\n",
      "Epoch 14/30\n",
      "\u001b[1m2/2\u001b[0m \u001b[32m━━━━━━━━━━━━━━━━━━━━\u001b[0m\u001b[37m\u001b[0m \u001b[1m0s\u001b[0m 113ms/step - accuracy: 0.6648 - loss: 1.1542 - val_accuracy: 0.2500 - val_loss: 1.3929\n",
      "Epoch 15/30\n",
      "\u001b[1m2/2\u001b[0m \u001b[32m━━━━━━━━━━━━━━━━━━━━\u001b[0m\u001b[37m\u001b[0m \u001b[1m0s\u001b[0m 122ms/step - accuracy: 0.6780 - loss: 1.0262 - val_accuracy: 0.1667 - val_loss: 1.4215\n",
      "Epoch 16/30\n",
      "\u001b[1m2/2\u001b[0m \u001b[32m━━━━━━━━━━━━━━━━━━━━\u001b[0m\u001b[37m\u001b[0m \u001b[1m0s\u001b[0m 112ms/step - accuracy: 0.5875 - loss: 0.9337 - val_accuracy: 0.5000 - val_loss: 1.4005\n",
      "Epoch 17/30\n",
      "\u001b[1m2/2\u001b[0m \u001b[32m━━━━━━━━━━━━━━━━━━━━\u001b[0m\u001b[37m\u001b[0m \u001b[1m0s\u001b[0m 111ms/step - accuracy: 0.7449 - loss: 0.7823 - val_accuracy: 0.5000 - val_loss: 1.5018\n",
      "Epoch 18/30\n",
      "\u001b[1m2/2\u001b[0m \u001b[32m━━━━━━━━━━━━━━━━━━━━\u001b[0m\u001b[37m\u001b[0m \u001b[1m0s\u001b[0m 110ms/step - accuracy: 0.7389 - loss: 0.7982 - val_accuracy: 0.1667 - val_loss: 1.6487\n",
      "Epoch 19/30\n",
      "\u001b[1m2/2\u001b[0m \u001b[32m━━━━━━━━━━━━━━━━━━━━\u001b[0m\u001b[37m\u001b[0m \u001b[1m0s\u001b[0m 112ms/step - accuracy: 0.6780 - loss: 0.7495 - val_accuracy: 0.2500 - val_loss: 1.8066\n",
      "Epoch 20/30\n",
      "\u001b[1m2/2\u001b[0m \u001b[32m━━━━━━━━━━━━━━━━━━━━\u001b[0m\u001b[37m\u001b[0m \u001b[1m0s\u001b[0m 109ms/step - accuracy: 0.6528 - loss: 0.7412 - val_accuracy: 0.4167 - val_loss: 1.8329\n",
      "Epoch 21/30\n",
      "\u001b[1m2/2\u001b[0m \u001b[32m━━━━━━━━━━━━━━━━━━━━\u001b[0m\u001b[37m\u001b[0m \u001b[1m0s\u001b[0m 111ms/step - accuracy: 0.8042 - loss: 0.6299 - val_accuracy: 0.4167 - val_loss: 1.8605\n",
      "Epoch 22/30\n",
      "\u001b[1m2/2\u001b[0m \u001b[32m━━━━━━━━━━━━━━━━━━━━\u001b[0m\u001b[37m\u001b[0m \u001b[1m0s\u001b[0m 108ms/step - accuracy: 0.8294 - loss: 0.5071 - val_accuracy: 0.4167 - val_loss: 1.9769\n",
      "Epoch 23/30\n",
      "\u001b[1m2/2\u001b[0m \u001b[32m━━━━━━━━━━━━━━━━━━━━\u001b[0m\u001b[37m\u001b[0m \u001b[1m0s\u001b[0m 113ms/step - accuracy: 0.7998 - loss: 0.4773 - val_accuracy: 0.3333 - val_loss: 2.1401\n",
      "Epoch 24/30\n",
      "\u001b[1m2/2\u001b[0m \u001b[32m━━━━━━━━━━━━━━━━━━━━\u001b[0m\u001b[37m\u001b[0m \u001b[1m0s\u001b[0m 109ms/step - accuracy: 0.7685 - loss: 0.4780 - val_accuracy: 0.3333 - val_loss: 2.1632\n",
      "Epoch 25/30\n",
      "\u001b[1m2/2\u001b[0m \u001b[32m━━━━━━━━━━━━━━━━━━━━\u001b[0m\u001b[37m\u001b[0m \u001b[1m0s\u001b[0m 114ms/step - accuracy: 0.8294 - loss: 0.4465 - val_accuracy: 0.3333 - val_loss: 2.2352\n",
      "Epoch 26/30\n",
      "\u001b[1m2/2\u001b[0m \u001b[32m━━━━━━━━━━━━━━━━━━━━\u001b[0m\u001b[37m\u001b[0m \u001b[1m0s\u001b[0m 119ms/step - accuracy: 0.8190 - loss: 0.4290 - val_accuracy: 0.3333 - val_loss: 2.1821\n",
      "Epoch 27/30\n",
      "\u001b[1m2/2\u001b[0m \u001b[32m━━━━━━━━━━━━━━━━━━━━\u001b[0m\u001b[37m\u001b[0m \u001b[1m0s\u001b[0m 119ms/step - accuracy: 0.9199 - loss: 0.3079 - val_accuracy: 0.4167 - val_loss: 2.0918\n",
      "Epoch 28/30\n",
      "\u001b[1m2/2\u001b[0m \u001b[32m━━━━━━━━━━━━━━━━━━━━\u001b[0m\u001b[37m\u001b[0m \u001b[1m0s\u001b[0m 132ms/step - accuracy: 0.8190 - loss: 0.3662 - val_accuracy: 0.3333 - val_loss: 2.0584\n",
      "Epoch 29/30\n",
      "\u001b[1m2/2\u001b[0m \u001b[32m━━━━━━━━━━━━━━━━━━━━\u001b[0m\u001b[37m\u001b[0m \u001b[1m0s\u001b[0m 125ms/step - accuracy: 0.9704 - loss: 0.1766 - val_accuracy: 0.3333 - val_loss: 2.3711\n",
      "Epoch 30/30\n",
      "\u001b[1m2/2\u001b[0m \u001b[32m━━━━━━━━━━━━━━━━━━━━\u001b[0m\u001b[37m\u001b[0m \u001b[1m0s\u001b[0m 118ms/step - accuracy: 0.9347 - loss: 0.1771 - val_accuracy: 0.5000 - val_loss: 2.7494\n",
      "\u001b[1m1/1\u001b[0m \u001b[32m━━━━━━━━━━━━━━━━━━━━\u001b[0m\u001b[37m\u001b[0m \u001b[1m0s\u001b[0m 45ms/step - accuracy: 0.5000 - loss: 2.7494\n",
      "Test Accuracy: 0.5\n"
     ]
    }
   ],
   "source": [
    "import os\n",
    "import librosa\n",
    "import numpy as np\n",
    "import tensorflow as tf\n",
    "from sklearn.model_selection import train_test_split\n",
    "from tensorflow.keras.utils import to_categorical\n",
    "from tensorflow.keras import layers, models\n",
    "\n",
    "# Initialize lists to store mel spectrograms and labels\n",
    "mel_spectrograms = []\n",
    "labels = []\n",
    "\n",
    "base_dir = 'C://Users/morni/Side Projects/wav_files'\n",
    "\n",
    "# Function to extract mel spectrogram from audio file\n",
    "def extract_features(file, max_len=128):\n",
    "    y, sr = librosa.load(file, sr=None)\n",
    "    mel_spect = librosa.feature.melspectrogram(y=y, sr=sr, n_mels=128)\n",
    "    mel_spect_db = librosa.power_to_db(mel_spect, ref=np.max)\n",
    "    \n",
    "    # Ensure all spectrograms have the same length\n",
    "    if mel_spect_db.shape[1] > max_len:\n",
    "        mel_spect_db = mel_spect_db[:, :max_len]\n",
    "    else:\n",
    "        pad_width = max_len - mel_spect_db.shape[1]\n",
    "        mel_spect_db = np.pad(mel_spect_db, pad_width=((0, 0), (0, pad_width)), mode='constant')\n",
    "    \n",
    "    return mel_spect_db\n",
    "\n",
    "# Loop through each folder in the base directory\n",
    "for folder_name in os.listdir(base_dir):\n",
    "    folder_path = os.path.join(base_dir, folder_name)\n",
    "    \n",
    "    if os.path.isdir(folder_path):\n",
    "        # Loop through each file in the folder\n",
    "        for file_name in os.listdir(folder_path):\n",
    "            if file_name.endswith('.wav'):\n",
    "                file_path = os.path.join(folder_path, file_name)\n",
    "                \n",
    "                # Extract mel spectrogram features\n",
    "                mel_spect = extract_features(file_path)\n",
    "                mel_spectrograms.append(mel_spect)\n",
    "                \n",
    "                # Add the label (first letter of folder name as label)\n",
    "                labels.append(folder_name[0].upper())\n",
    "\n",
    "# Convert to numpy arrays\n",
    "X = np.array(mel_spectrograms)\n",
    "y = np.array(labels)\n",
    "\n",
    "# Encode the labels\n",
    "unique_labels = np.unique(y)\n",
    "label_map = {label: i for i, label in enumerate(unique_labels)}\n",
    "y_encoded = np.array([label_map[label] for label in y])\n",
    "y_encoded = to_categorical(y_encoded, num_classes=len(unique_labels))\n",
    "\n",
    "# Split into train and test sets\n",
    "X_train, X_test, y_train, y_test = train_test_split(X, y_encoded, test_size=0.2, random_state=42)\n",
    "\n",
    "# Add a channel dimension for CNN\n",
    "X_train = X_train[..., np.newaxis]\n",
    "X_test = X_test[..., np.newaxis]\n",
    "\n",
    "# Build CNN model\n",
    "model = models.Sequential()\n",
    "\n",
    "# First Conv Layer\n",
    "model.add(layers.Conv2D(32, kernel_size=(3, 3), activation='relu', input_shape=(128, 128, 1)))\n",
    "model.add(layers.MaxPooling2D(pool_size=(2, 2)))\n",
    "\n",
    "# Second Conv Layer\n",
    "model.add(layers.Conv2D(64, kernel_size=(3, 3), activation='relu'))\n",
    "model.add(layers.MaxPooling2D(pool_size=(2, 2)))\n",
    "\n",
    "# Third Conv Layer\n",
    "model.add(layers.Conv2D(128, kernel_size=(3, 3), activation='relu'))\n",
    "model.add(layers.MaxPooling2D(pool_size=(2, 2)))\n",
    "\n",
    "# Flatten and add Dense layers\n",
    "model.add(layers.Flatten())\n",
    "model.add(layers.Dense(128, activation='relu'))\n",
    "model.add(layers.Dropout(0.3))  # Prevent overfitting\n",
    "model.add(layers.Dense(len(unique_labels), activation='softmax'))\n",
    "\n",
    "# Compile the model\n",
    "model.compile(optimizer='adam', loss='categorical_crossentropy', metrics=['accuracy'])\n",
    "\n",
    "# Train the model\n",
    "history = model.fit(X_train, y_train, epochs=30, batch_size=32, validation_data=(X_test, y_test))\n",
    "\n",
    "# Evaluate the model\n",
    "test_loss, test_acc = model.evaluate(X_test, y_test)\n",
    "print(f\"Test Accuracy: {test_acc}\")\n"
   ]
  },
  {
   "cell_type": "code",
   "execution_count": 8,
   "id": "ea936857-39c5-44c6-bfde-4e3044a0ad0b",
   "metadata": {
    "tags": []
   },
   "outputs": [
    {
     "name": "stdout",
     "output_type": "stream",
     "text": [
      "Audio Files: ['C://Users/morni/Side Projects/wav_files\\\\dookie\\\\Basket Case.wav', 'C://Users/morni/Side Projects/wav_files\\\\dookie\\\\Burnout.wav', 'C://Users/morni/Side Projects/wav_files\\\\dookie\\\\Chump.wav', 'C://Users/morni/Side Projects/wav_files\\\\dookie\\\\Coming Clean.wav', 'C://Users/morni/Side Projects/wav_files\\\\dookie\\\\Emenius Sleepus.wav', 'C://Users/morni/Side Projects/wav_files\\\\dookie\\\\Having A Blast.wav', 'C://Users/morni/Side Projects/wav_files\\\\dookie\\\\In The End.wav', 'C://Users/morni/Side Projects/wav_files\\\\dookie\\\\Longview.wav', 'C://Users/morni/Side Projects/wav_files\\\\dookie\\\\Pulling Teeth.wav', 'C://Users/morni/Side Projects/wav_files\\\\dookie\\\\Sassafras Roots.wav', 'C://Users/morni/Side Projects/wav_files\\\\dookie\\\\She.wav', 'C://Users/morni/Side Projects/wav_files\\\\dookie\\\\Welcome To Paradise.wav', 'C://Users/morni/Side Projects/wav_files\\\\dookie\\\\When I Come Around.wav', 'C://Users/morni/Side Projects/wav_files\\\\insomniac\\\\86.wav', 'C://Users/morni/Side Projects/wav_files\\\\insomniac\\\\Armatage Shanks.wav', 'C://Users/morni/Side Projects/wav_files\\\\insomniac\\\\Babs Uvula Who.wav', 'C://Users/morni/Side Projects/wav_files\\\\insomniac\\\\Brain Stew.wav', 'C://Users/morni/Side Projects/wav_files\\\\insomniac\\\\Brat.wav', 'C://Users/morni/Side Projects/wav_files\\\\insomniac\\\\Geek Stink Breath.wav', 'C://Users/morni/Side Projects/wav_files\\\\insomniac\\\\Jaded.wav', 'C://Users/morni/Side Projects/wav_files\\\\insomniac\\\\No Pride.wav', 'C://Users/morni/Side Projects/wav_files\\\\insomniac\\\\Panic Song.wav', 'C://Users/morni/Side Projects/wav_files\\\\insomniac\\\\Stuart And The Ave.wav', 'C://Users/morni/Side Projects/wav_files\\\\insomniac\\\\Stuck With Me.wav', 'C://Users/morni/Side Projects/wav_files\\\\insomniac\\\\Tight Wad Hill.wav', 'C://Users/morni/Side Projects/wav_files\\\\insomniac\\\\Walkin Contradiction.wav', 'C://Users/morni/Side Projects/wav_files\\\\insomniac\\\\Westbound Sign.wav', 'C://Users/morni/Side Projects/wav_files\\\\nimrod\\\\All The Time.wav', 'C://Users/morni/Side Projects/wav_files\\\\nimrod\\\\Haushinka.wav', \"C://Users/morni/Side Projects/wav_files\\\\nimrod\\\\Hitchin' A Ride.wav\", 'C://Users/morni/Side Projects/wav_files\\\\nimrod\\\\Jinx.wav', 'C://Users/morni/Side Projects/wav_files\\\\nimrod\\\\King For A Day.wav', 'C://Users/morni/Side Projects/wav_files\\\\nimrod\\\\Last Ride In.wav', 'C://Users/morni/Side Projects/wav_files\\\\nimrod\\\\Nice Guys Finish Last.wav', 'C://Users/morni/Side Projects/wav_files\\\\nimrod\\\\Platypus (I Hate You).wav', 'C://Users/morni/Side Projects/wav_files\\\\nimrod\\\\Prosthetic Head.wav', 'C://Users/morni/Side Projects/wav_files\\\\nimrod\\\\Redundant.wav', 'C://Users/morni/Side Projects/wav_files\\\\nimrod\\\\Scattered.wav', 'C://Users/morni/Side Projects/wav_files\\\\nimrod\\\\Suffocate.wav', 'C://Users/morni/Side Projects/wav_files\\\\nimrod\\\\Take Back.wav', 'C://Users/morni/Side Projects/wav_files\\\\nimrod\\\\The Grouch.wav', 'C://Users/morni/Side Projects/wav_files\\\\nimrod\\\\Time of Your life.wav', 'C://Users/morni/Side Projects/wav_files\\\\nimrod\\\\Uptight.wav', 'C://Users/morni/Side Projects/wav_files\\\\nimrod\\\\Walking Alone.wav', 'C://Users/morni/Side Projects/wav_files\\\\nimrod\\\\Worry Rock.wav', 'C://Users/morni/Side Projects/wav_files\\\\warning\\\\Blood, Sex And Booze.wav', 'C://Users/morni/Side Projects/wav_files\\\\warning\\\\Castaway.wav', 'C://Users/morni/Side Projects/wav_files\\\\warning\\\\Church On Sunday.wav', 'C://Users/morni/Side Projects/wav_files\\\\warning\\\\Deadbeat Holiday.wav', 'C://Users/morni/Side Projects/wav_files\\\\warning\\\\Fashion Victim.wav', 'C://Users/morni/Side Projects/wav_files\\\\warning\\\\Hold On.wav', 'C://Users/morni/Side Projects/wav_files\\\\warning\\\\Jackass.wav', 'C://Users/morni/Side Projects/wav_files\\\\warning\\\\Macys Day Parade.wav', 'C://Users/morni/Side Projects/wav_files\\\\warning\\\\Minority.wav', 'C://Users/morni/Side Projects/wav_files\\\\warning\\\\Misery.wav', 'C://Users/morni/Side Projects/wav_files\\\\warning\\\\Waiting.wav', 'C://Users/morni/Side Projects/wav_files\\\\warning\\\\Warning.wav']\n",
      "Labels: ['D', 'D', 'D', 'D', 'D', 'D', 'D', 'D', 'D', 'D', 'D', 'D', 'D', 'I', 'I', 'I', 'I', 'I', 'I', 'I', 'I', 'I', 'I', 'I', 'I', 'I', 'I', 'N', 'N', 'N', 'N', 'N', 'N', 'N', 'N', 'N', 'N', 'N', 'N', 'N', 'N', 'N', 'N', 'N', 'N', 'W', 'W', 'W', 'W', 'W', 'W', 'W', 'W', 'W', 'W', 'W', 'W']\n"
     ]
    }
   ],
   "source": [
    "base_dir = 'C://Users/morni/Side Projects/wav_files'\n",
    "\n",
    "# Initialize lists to store file paths and labels\n",
    "audio_files = []\n",
    "labels = []\n",
    "\n",
    "# Loop through each folder in the base directory\n",
    "for folder_name in os.listdir(base_dir):\n",
    "    folder_path = os.path.join(base_dir, folder_name)\n",
    "    \n",
    "    if os.path.isdir(folder_path):\n",
    "        # Loop through each file in the folder\n",
    "        for file_name in os.listdir(folder_path):\n",
    "            if file_name.endswith('.wav'):  # You can specify the file type\n",
    "                file_path = os.path.join(folder_path, file_name)\n",
    "                audio_files.append(file_path)\n",
    "                \n",
    "                # Add the label (using the folder name or any other logic)\n",
    "                labels.append(folder_name[0].upper())  # Taking the first letter of the folder name as the label\n",
    "\n",
    "# Now you have two lists: audio_files and labels\n",
    "print(\"Audio Files:\", audio_files)\n",
    "print(\"Labels:\", labels)"
   ]
  },
  {
   "cell_type": "code",
   "execution_count": 9,
   "id": "d0ab7b0e-2cac-49bb-bf77-192bd616382f",
   "metadata": {
    "tags": []
   },
   "outputs": [
    {
     "name": "stdout",
     "output_type": "stream",
     "text": [
      "Audio Files: ['C://Users/morni/Side Projects/wav_files\\\\dookie\\\\Basket Case.wav', 'C://Users/morni/Side Projects/wav_files\\\\dookie\\\\Burnout.wav', 'C://Users/morni/Side Projects/wav_files\\\\dookie\\\\Chump.wav', 'C://Users/morni/Side Projects/wav_files\\\\dookie\\\\Coming Clean.wav', 'C://Users/morni/Side Projects/wav_files\\\\dookie\\\\Emenius Sleepus.wav', 'C://Users/morni/Side Projects/wav_files\\\\dookie\\\\Having A Blast.wav', 'C://Users/morni/Side Projects/wav_files\\\\dookie\\\\In The End.wav', 'C://Users/morni/Side Projects/wav_files\\\\dookie\\\\Longview.wav', 'C://Users/morni/Side Projects/wav_files\\\\dookie\\\\Pulling Teeth.wav', 'C://Users/morni/Side Projects/wav_files\\\\dookie\\\\Sassafras Roots.wav', 'C://Users/morni/Side Projects/wav_files\\\\dookie\\\\She.wav', 'C://Users/morni/Side Projects/wav_files\\\\dookie\\\\Welcome To Paradise.wav', 'C://Users/morni/Side Projects/wav_files\\\\dookie\\\\When I Come Around.wav', 'C://Users/morni/Side Projects/wav_files\\\\insomniac\\\\86.wav', 'C://Users/morni/Side Projects/wav_files\\\\insomniac\\\\Armatage Shanks.wav', 'C://Users/morni/Side Projects/wav_files\\\\insomniac\\\\Babs Uvula Who.wav', 'C://Users/morni/Side Projects/wav_files\\\\insomniac\\\\Brain Stew.wav', 'C://Users/morni/Side Projects/wav_files\\\\insomniac\\\\Brat.wav', 'C://Users/morni/Side Projects/wav_files\\\\insomniac\\\\Geek Stink Breath.wav', 'C://Users/morni/Side Projects/wav_files\\\\insomniac\\\\Jaded.wav', 'C://Users/morni/Side Projects/wav_files\\\\insomniac\\\\No Pride.wav', 'C://Users/morni/Side Projects/wav_files\\\\insomniac\\\\Panic Song.wav', 'C://Users/morni/Side Projects/wav_files\\\\insomniac\\\\Stuart And The Ave.wav', 'C://Users/morni/Side Projects/wav_files\\\\insomniac\\\\Stuck With Me.wav', 'C://Users/morni/Side Projects/wav_files\\\\insomniac\\\\Tight Wad Hill.wav', 'C://Users/morni/Side Projects/wav_files\\\\insomniac\\\\Walkin Contradiction.wav', 'C://Users/morni/Side Projects/wav_files\\\\insomniac\\\\Westbound Sign.wav', 'C://Users/morni/Side Projects/wav_files\\\\nimrod\\\\All The Time.wav', 'C://Users/morni/Side Projects/wav_files\\\\nimrod\\\\Haushinka.wav', \"C://Users/morni/Side Projects/wav_files\\\\nimrod\\\\Hitchin' A Ride.wav\", 'C://Users/morni/Side Projects/wav_files\\\\nimrod\\\\Jinx.wav', 'C://Users/morni/Side Projects/wav_files\\\\nimrod\\\\King For A Day.wav', 'C://Users/morni/Side Projects/wav_files\\\\nimrod\\\\Last Ride In.wav', 'C://Users/morni/Side Projects/wav_files\\\\nimrod\\\\Nice Guys Finish Last.wav', 'C://Users/morni/Side Projects/wav_files\\\\nimrod\\\\Platypus (I Hate You).wav', 'C://Users/morni/Side Projects/wav_files\\\\nimrod\\\\Prosthetic Head.wav', 'C://Users/morni/Side Projects/wav_files\\\\nimrod\\\\Redundant.wav', 'C://Users/morni/Side Projects/wav_files\\\\nimrod\\\\Scattered.wav', 'C://Users/morni/Side Projects/wav_files\\\\nimrod\\\\Suffocate.wav', 'C://Users/morni/Side Projects/wav_files\\\\nimrod\\\\Take Back.wav', 'C://Users/morni/Side Projects/wav_files\\\\nimrod\\\\The Grouch.wav', 'C://Users/morni/Side Projects/wav_files\\\\nimrod\\\\Time of Your life.wav', 'C://Users/morni/Side Projects/wav_files\\\\nimrod\\\\Uptight.wav', 'C://Users/morni/Side Projects/wav_files\\\\nimrod\\\\Walking Alone.wav', 'C://Users/morni/Side Projects/wav_files\\\\nimrod\\\\Worry Rock.wav', 'C://Users/morni/Side Projects/wav_files\\\\warning\\\\Blood, Sex And Booze.wav', 'C://Users/morni/Side Projects/wav_files\\\\warning\\\\Castaway.wav', 'C://Users/morni/Side Projects/wav_files\\\\warning\\\\Church On Sunday.wav', 'C://Users/morni/Side Projects/wav_files\\\\warning\\\\Deadbeat Holiday.wav', 'C://Users/morni/Side Projects/wav_files\\\\warning\\\\Fashion Victim.wav', 'C://Users/morni/Side Projects/wav_files\\\\warning\\\\Hold On.wav', 'C://Users/morni/Side Projects/wav_files\\\\warning\\\\Jackass.wav', 'C://Users/morni/Side Projects/wav_files\\\\warning\\\\Macys Day Parade.wav', 'C://Users/morni/Side Projects/wav_files\\\\warning\\\\Minority.wav', 'C://Users/morni/Side Projects/wav_files\\\\warning\\\\Misery.wav', 'C://Users/morni/Side Projects/wav_files\\\\warning\\\\Waiting.wav', 'C://Users/morni/Side Projects/wav_files\\\\warning\\\\Warning.wav']\n",
      "Labels: ['D', 'D', 'D', 'D', 'D', 'D', 'D', 'D', 'D', 'D', 'D', 'D', 'D', 'I', 'I', 'I', 'I', 'I', 'I', 'I', 'I', 'I', 'I', 'I', 'I', 'I', 'I', 'N', 'N', 'N', 'N', 'N', 'N', 'N', 'N', 'N', 'N', 'N', 'N', 'N', 'N', 'N', 'N', 'N', 'N', 'W', 'W', 'W', 'W', 'W', 'W', 'W', 'W', 'W', 'W', 'W', 'W']\n",
      "Accuracy: 0.8333333333333334\n",
      "Classification Report:\n",
      "              precision    recall  f1-score   support\n",
      "\n",
      "           D       1.00      0.33      0.50         3\n",
      "           I       0.60      1.00      0.75         3\n",
      "           N       1.00      1.00      1.00         4\n",
      "           W       1.00      1.00      1.00         2\n",
      "\n",
      "    accuracy                           0.83        12\n",
      "   macro avg       0.90      0.83      0.81        12\n",
      "weighted avg       0.90      0.83      0.81        12\n",
      "\n",
      "[[1 2 0 0]\n",
      " [0 3 0 0]\n",
      " [0 0 4 0]\n",
      " [0 0 0 2]]\n"
     ]
    }
   ],
   "source": [
    "from sklearn.ensemble import RandomForestClassifier\n",
    "from sklearn.model_selection import train_test_split\n",
    "from sklearn.metrics import accuracy_score, classification_report, confusion_matrix\n",
    "\n",
    "base_dir = 'C://Users/morni/Side Projects/wav_files'\n",
    "\n",
    "# Initialize lists to store file paths and labels\n",
    "audio_files = []\n",
    "labels = []\n",
    "\n",
    "# Loop through each folder in the base directory\n",
    "for folder_name in os.listdir(base_dir):\n",
    "    folder_path = os.path.join(base_dir, folder_name)\n",
    "    \n",
    "    if os.path.isdir(folder_path):\n",
    "        # Loop through each file in the folder\n",
    "        for file_name in os.listdir(folder_path):\n",
    "            if file_name.endswith('.wav'):  # You can specify the file type\n",
    "                file_path = os.path.join(folder_path, file_name)\n",
    "                audio_files.append(file_path)\n",
    "                \n",
    "                # Add the label (using the folder name or any other logic)\n",
    "                labels.append(folder_name[0].upper())  # Taking the first letter of the folder name as the label\n",
    "\n",
    "# Now you have two lists: audio_files and labels\n",
    "print(\"Audio Files:\", audio_files)\n",
    "print(\"Labels:\", labels)\n",
    "               \n",
    "def extract_features(file, max_len=128):\n",
    "    y, sr = librosa.load(file, sr=22050)\n",
    "    mel_spect = librosa.feature.melspectrogram(y=y, sr=sr, n_mels=128)\n",
    "    mel_spect_db = librosa.power_to_db(mel_spect, ref=np.max)\n",
    "    \n",
    "    # Pad or truncate to max_len\n",
    "    if mel_spect_db.shape[1] < max_len:\n",
    "        pad_width = max_len - mel_spect_db.shape[1]\n",
    "        mel_spect_db = np.pad(mel_spect_db, ((0, 0), (0, pad_width)), mode='constant')\n",
    "    else:\n",
    "        mel_spect_db = mel_spect_db[:, :max_len]\n",
    "    \n",
    "    return mel_spect_db.flatten()  # Flatten to 1D array', 'The Grouch.wav']\n",
    "\n",
    "\n",
    "# Extract features and prepare the dataset\n",
    "X = np.array([extract_features(file) for file in audio_files])\n",
    "y = np.array(labels)\n",
    "\n",
    "# Split the data into training and test sets\n",
    "X_train, X_test, y_train, y_test = train_test_split(X, y, test_size=0.2, random_state=42,stratify=y)\n",
    "\n",
    "# Initialize the Random Forest classifier\n",
    "clf = RandomForestClassifier(n_estimators=150, random_state=42)\n",
    "\n",
    "# Train the classifier\n",
    "clf.fit(X_train, y_train)\n",
    "\n",
    "# Predict on the test set\n",
    "y_pred = clf.predict(X_test)\n",
    "\n",
    "# Evaluate the classifier\n",
    "accuracy = accuracy_score(y_test, y_pred)\n",
    "print(f\"Accuracy: {accuracy}\")\n",
    "print(\"Classification Report:\")\n",
    "print(classification_report(y_test, y_pred))\n",
    "print(confusion_matrix(y_test, y_pred))"
   ]
  },
  {
   "cell_type": "code",
   "execution_count": 10,
   "id": "c536ada4-95c8-489b-b93c-554474f0e4e0",
   "metadata": {
    "tags": []
   },
   "outputs": [
    {
     "data": {
      "image/png": "[encoded data removed]",
      "text/plain": [
       "<Figure size 640x480 with 1 Axes>"
      ]
     },
     "metadata": {},
     "output_type": "display_data"
    }
   ],
   "source": [
    "import os\n",
    "import numpy as np\n",
    "import librosa\n",
    "import matplotlib.pyplot as plt\n",
    "from sklearn.ensemble import RandomForestClassifier\n",
    "from sklearn.model_selection import train_test_split\n",
    "from sklearn.metrics import accuracy_score, classification_report, confusion_matrix, roc_curve, auc\n",
    "from sklearn.preprocessing import label_binarize\n",
    "from sklearn.multiclass import OneVsRestClassifier\n",
    "\n",
    "# Base directory containing the WAV files\n",
    "base_dir = 'C://Users/morni/Side Projects/wav_files'\n",
    "\n",
    "# Initialize lists to store file paths and labels\n",
    "audio_files = []\n",
    "labels = []\n",
    "\n",
    "# Loop through each folder in the base directory\n",
    "for folder_name in os.listdir(base_dir):\n",
    "    folder_path = os.path.join(base_dir, folder_name)\n",
    "    \n",
    "    if os.path.isdir(folder_path):\n",
    "        # Loop through each file in the folder\n",
    "        for file_name in os.listdir(folder_path):\n",
    "            if file_name.endswith('.wav'):\n",
    "                file_path = os.path.join(folder_path, file_name)\n",
    "                audio_files.append(file_path)\n",
    "                \n",
    "                # Add the label (using the folder name or any other logic)\n",
    "                labels.append(folder_name[0].upper())  # Taking the first letter of the folder name as the label\n",
    "\n",
    "# Feature extraction function\n",
    "def extract_features(file, max_len=128):\n",
    "    y, sr = librosa.load(file, sr=22050)\n",
    "    mel_spect = librosa.feature.melspectrogram(y=y, sr=sr, n_mels=128)\n",
    "    mel_spect_db = librosa.power_to_db(mel_spect, ref=np.max)\n",
    "    \n",
    "    # Pad or truncate to max_len\n",
    "    if mel_spect_db.shape[1] < max_len:\n",
    "        pad_width = max_len - mel_spect_db.shape[1]\n",
    "        mel_spect_db = np.pad(mel_spect_db, ((0, 0), (0, pad_width)), mode='constant')\n",
    "    else:\n",
    "        mel_spect_db = mel_spect_db[:, :max_len]\n",
    "    \n",
    "    return mel_spect_db.flatten()\n",
    "\n",
    "# Extract features and prepare the dataset\n",
    "X = np.array([extract_features(file) for file in audio_files])\n",
    "y = np.array(labels)\n",
    "\n",
    "# Binarize the labels for multiclass ROC curve\n",
    "y_bin = label_binarize(y, classes=np.unique(y))\n",
    "\n",
    "# Split the data into training and test sets\n",
    "X_train, X_test, y_train, y_test = train_test_split(X, y_bin, test_size=0.3, random_state=42, stratify=y)\n",
    "\n",
    "# Initialize the Random Forest classifier with One-vs-Rest strategy\n",
    "clf = OneVsRestClassifier(RandomForestClassifier(n_estimators=15, random_state=42))\n",
    "\n",
    "# Train the classifier\n",
    "clf.fit(X_train, y_train)\n",
    "\n",
    "# Predict probabilities on the test set\n",
    "y_score = clf.predict_proba(X_test)\n",
    "\n",
    "# Plot ROC curve for each class\n",
    "fpr = dict()\n",
    "tpr = dict()\n",
    "roc_auc = dict()\n",
    "for i in range(y_bin.shape[1]):\n",
    "    fpr[i], tpr[i], _ = roc_curve(y_test[:, i], y_score[:, i])\n",
    "    roc_auc[i] = auc(fpr[i], tpr[i])\n",
    "\n",
    "# Plotting the ROC curve\n",
    "plt.figure()\n",
    "for i in range(y_bin.shape[1]):\n",
    "    plt.plot(fpr[i], tpr[i], label=f'Class {i} (area = {roc_auc[i]:.2f})')\n",
    "\n",
    "plt.plot([0, 1], [0, 1], 'k--')\n",
    "plt.xlim([0.0, 1.0])\n",
    "plt.ylim([0.0, 1.05])\n",
    "plt.xlabel('False Positive Rate')\n",
    "plt.ylabel('True Positive Rate')\n",
    "plt.title('Receiver Operating Characteristic (ROC) Curve')\n",
    "plt.legend(loc='lower right')\n",
    "plt.show()\n"
   ]
  },
  {
   "cell_type": "code",
   "execution_count": null,
   "id": "7c751e26-1efe-40c9-80e2-98252c4efb1f",
   "metadata": {
    "tags": []
   },
   "outputs": [],
   "source": [
    "# Import roc_curve\n",
    "from sklearn.metrics import roc_curve\n",
    "\n",
    "# Generate ROC curve values: fpr, tpr, thresholds\n",
    "fpr, tpr, thresholds = roc_curve(y_test, y_pred_probs)\n",
    "\n",
    "plt.plot([0, 1], [0, 1], 'k--')\n",
    "\n",
    "# Plot tpr against fpr\n",
    "plt.plot(fpr, tpr)\n",
    "plt.xlabel('False Positive Rate')\n",
    "plt.ylabel('True Positive Rate')\n",
    "plt.title('ROC Curve for ReAdmis Prediction')\n",
    "plt.show()"
   ]
  },
  {
   "cell_type": "code",
   "execution_count": null,
   "id": "9a7d854e-c094-48f4-a060-499d3dedc5c4",
   "metadata": {
    "tags": []
   },
   "outputs": [],
   "source": [
    "y, sr = librosa.load(burnout, sr=22050)\n",
    "librosa.display.waveshow(y, sr=sr)\n",
    "plt.xlabel('time')\n",
    "plt.ylabel('amplitude')\n",
    "plt.show()"
   ]
  },
  {
   "cell_type": "code",
   "execution_count": null,
   "id": "fb28d238-d9af-4d62-8277-ab67daf15e20",
   "metadata": {
    "tags": []
   },
   "outputs": [],
   "source": [
    "fft = np.fft.fft(y)\n",
    "\n",
    "mag = np.abs(fft)\n",
    "freq = np.linspace(0, sr, len(mag))\n",
    "\n",
    "l_freq = freq[:int(len(freq)/2)]\n",
    "l_mag = mag[:int(len(mag)/2)]\n",
    "\n",
    "plt.plot(l_freq, l_mag)\n",
    "plt.xlabel('frequency')\n",
    "plt.ylabel('magnitude')\n",
    "plt.show()"
   ]
  },
  {
   "cell_type": "code",
   "execution_count": null,
   "id": "5336d95d-3c28-472d-a0fa-1ea5815c5514",
   "metadata": {
    "tags": []
   },
   "outputs": [],
   "source": [
    "n_fft = 2048\n",
    "hop_length = 512\n",
    "\n",
    "stft = librosa.core.stft(y, n_fft=n_fft, hop_length=hop_length)\n",
    "\n",
    "spectrogram = np.abs(stft)\n",
    "\n",
    "log_spec = librosa.amplitude_to_db(spectrogram)\n",
    "\n",
    "librosa.display.specshow(log_spec, sr=sr, hop_length=hop_length)\n",
    "plt.xlabel('time')\n",
    "plt.ylabel('freq')\n",
    "plt.colorbar()\n",
    "plt.show()"
   ]
  },
  {
   "cell_type": "code",
   "execution_count": null,
   "id": "90d99003-b3f5-4853-a19b-1ec53938eb71",
   "metadata": {
    "tags": []
   },
   "outputs": [],
   "source": [
    "MFCCs = librosa.feature.mfcc(y=y, n_fft=n_fft, hop_length=hop_length, n_mfcc=13)\n",
    "librosa.display.specshow(MFCCs, sr=sr, hop_length=hop_length)\n",
    "plt.xlabel('time')\n",
    "plt.ylabel('MFCC')\n",
    "plt.colorbar()\n",
    "plt.show()"
   ]
  },
  {
   "cell_type": "code",
   "execution_count": null,
   "id": "b00338cf-cea4-45ff-b083-60a7d70c8dab",
   "metadata": {},
   "outputs": [],
   "source": []
  },
  {
   "cell_type": "code",
   "execution_count": null,
   "id": "f74a15c2-80a6-4d46-af26-a14124b0727c",
   "metadata": {},
   "outputs": [],
   "source": []
  },
  {
   "cell_type": "code",
   "execution_count": null,
   "id": "534d45c1-6e4d-4a2a-867f-b7edc0540f79",
   "metadata": {},
   "outputs": [],
   "source": []
  }
 ],
 "metadata": {
  "kernelspec": {
   "display_name": "Python 3 (ipykernel)",
   "language": "python",
   "name": "python3"
  },
  "language_info": {
   "codemirror_mode": {
    "name": "ipython",
    "version": 3
   },
   "file_extension": ".py",
   "mimetype": "text/x-python",
   "name": "python",
   "nbconvert_exporter": "python",
   "pygments_lexer": "ipython3",
   "version": "3.11.5"
  }
 },
 "nbformat": 4,
 "nbformat_minor": 5
}
